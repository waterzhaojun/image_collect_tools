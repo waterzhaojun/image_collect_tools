{
 "metadata": {
  "language_info": {
   "codemirror_mode": {
    "name": "ipython",
    "version": 3
   },
   "file_extension": ".py",
   "mimetype": "text/x-python",
   "name": "python",
   "nbconvert_exporter": "python",
   "pygments_lexer": "ipython3",
   "version": "3.6.7"
  },
  "orig_nbformat": 4,
  "kernelspec": {
   "name": "python3",
   "display_name": "Python 3.6.7 64-bit ('base': conda)"
  },
  "interpreter": {
   "hash": "625ee71e8a022a3a099a626e3ee6b28c21a383ae661efb1e3d5a2dbc546109fe"
  }
 },
 "nbformat": 4,
 "nbformat_minor": 2,
 "cells": [
  {
   "cell_type": "code",
   "execution_count": 141,
   "metadata": {},
   "outputs": [],
   "source": [
    "import os\n",
    "from PIL import Image\n",
    "import numpy as np\n",
    "import math\n",
    "import copy"
   ]
  },
  {
   "cell_type": "code",
   "execution_count": 153,
   "metadata": {},
   "outputs": [],
   "source": [
    "root = '/Users/Melody/Downloads/NaV1.8.Cre.Ai32-21030201'\n",
    "outputfolder = root#os.path.join(root, 'merged')\n",
    "\n",
    "bright_threshold = 100\n",
    "\n",
    "# name = '3R4 right'\n",
    "# redpath = os.path.join(root, name + ' red.TIF')\n",
    "# greenpath = os.path.join(root, name + ' green.TIF')\n",
    "# output = os.path.join(outputfolder, name + '.TIF')"
   ]
  },
  {
   "cell_type": "code",
   "execution_count": 227,
   "metadata": {},
   "outputs": [
    {
     "output_type": "stream",
     "name": "stdout",
     "text": [
      "['2R1 left 1' '2R1 left 2' '2R1 right 1' '2R1 right 2' '2R2 left 1'\n '2R2 left 2' '2R2 right 1' '2R2 right 2' '2R3 left' '2R3 right 1'\n '2R3 right 2' '2R4 left' '2R4 right' '2R5 left' '2R5 right' '2R6 left'\n '2R6 right' '2R7 left' '2R7 right' '3R1 left' '3R1 right' '3R2 left'\n '3R2 right' '3R3 left' '3R3 right' '3R4 left' '3R4 right' '3R5 left'\n '3R5 right' '3R6 left' '3R6 right' '4R1 left' '4R1 right' '4R2 left'\n '4R2 right' '4R3 left' '4R3 right' '4R4 left' '4R4 right' '4R5 left'\n '4R5 right' '4R6 left' '4R6 right' '5R1 left' '5R1 right' '5R2 left'\n '5R2 right' '5R3 left' '5R3 right' '5R4 left' '5R4 right' '5R5 left'\n '5R5 right' '5R6 left' '5R6 right' '6R1 left' '6R1 right' '6R2 left'\n '6R2 right' '6R3 left' '6R3 right']\n"
     ]
    }
   ],
   "source": [
    "files = os.listdir(root)\n",
    "files = [' '.join(x.split(' ')[0:-1]) for x in files if x[0] not in ['.', 'm', 'n']]\n",
    "files = np.unique(np.array(files))\n",
    "print(files)"
   ]
  },
  {
   "cell_type": "code",
   "execution_count": 230,
   "metadata": {},
   "outputs": [],
   "source": [
    "for f in files:\n",
    "    redpath = os.path.join(root, f + ' red.TIF')\n",
    "    greenpath = os.path.join(root, f + ' green.TIF')\n",
    "    output = os.path.join(outputfolder, f + '.TIF')\n",
    "\n",
    "    try:\n",
    "        red = np.array(Image.open(redpath))\n",
    "        green = np.array(Image.open(greenpath))\n",
    "\n",
    "        # bright filter\n",
    "        blue = np.power(red, 1.2) > bright_threshold\n",
    "        #blue = ((red > bright_threshold) * 200).astype(np.uint8)\n",
    "        # size filter 目前这个filter会使符合要求的roi的边缘被crop掉，使其最后只剩一个小点，我还没有想到好的方法解决。\n",
    "        blue = sizefilter(blue, sizethreshold = 3, kernalsize = 3)\n",
    "        # enhance blue signal\n",
    "        blue = blue * 200\n",
    "\n",
    "        #blue = np.zeros(np.shape(red))\n",
    "\n",
    "\n",
    "        final = Image.fromarray(np.stack((red, green ,blue), axis = -1).astype(np.uint8))\n",
    "\n",
    "        final.save(output)\n",
    "    except:\n",
    "        print('have problem')\n",
    "        pass"
   ]
  },
  {
   "cell_type": "code",
   "execution_count": 229,
   "metadata": {},
   "outputs": [],
   "source": [
    "def sizefilter(img, sizethreshold = 1, kernalsize = 3):\n",
    "    # This img should be binary image.\n",
    "    if kernalsize % 2 == 0:\n",
    "        kernalsize = kernalsize + 1\n",
    "    arm = math.floor(kernalsize/2)\n",
    "    [r,c] = np.shape(img)\n",
    "\n",
    "    tmpimg = np.zeros([r + 2*arm, c + 2*arm])\n",
    "    tmpimg[arm:arm+r, arm:arm+c] = img\n",
    "\n",
    "    imgtreat = np.zeros(np.shape(img) + (kernalsize, kernalsize))#[r,c,arm,arm])\n",
    "    for i in range(kernalsize):\n",
    "        for j in range(kernalsize):\n",
    "            imgtreat[:,:,i,j] = tmpimg[i:i+r, j:j+c]\n",
    "\n",
    "    imgtreat = np.sum(imgtreat.reshape([-1, kernalsize, kernalsize]), axis = (1,2)).reshape([r,c])\n",
    "    imgtreat = (imgtreat > sizethreshold) * img\n",
    "\n",
    "    #print(np.shape(imgtreat))\n",
    "    return(imgtreat)\n",
    "    \n",
    "    # tmpimg = np.zeros([r + 2*arm, c + 2*arm])\n",
    "    # tmpimg[arm:arm+r, arm:arm+c] = img\n",
    "    # tmpimg2 = copy.deepcopy(tmpimg)\n",
    "    \n",
    "    # kernal = np.ones([kernalsize, kernalsize])\n",
    "\n",
    "    # for i in range(arm,arm+r):\n",
    "    #     for j in range(arm,arm+c):\n",
    "    #         tmpimg2[i,j] = np.sum(tmpimg[i-arm:i+arm+1, j-arm:j+arm+1] * kernal) > sizethreshold\n",
    "    \n",
    "    # finalimg = tmpimg2[arm:-arm, arm:-arm] * img\n",
    "    # return(finalimg)\n",
    "\n",
    "    \n"
   ]
  },
  {
   "cell_type": "code",
   "execution_count": 220,
   "metadata": {},
   "outputs": [
    {
     "output_type": "stream",
     "name": "stdout",
     "text": [
      "(520, 696)\n"
     ]
    }
   ],
   "source": [
    "x = sizefilter(blue)"
   ]
  },
  {
   "cell_type": "code",
   "execution_count": 204,
   "metadata": {},
   "outputs": [
    {
     "output_type": "stream",
     "name": "stdout",
     "text": [
      "[[[[ 0  1]\n   [ 2  3]]\n\n  [[ 4  5]\n   [ 6  7]]\n\n  [[ 8  9]\n   [10 11]]]\n\n\n [[[12 13]\n   [14 15]]\n\n  [[16 17]\n   [18 19]]\n\n  [[20 21]\n   [22 23]]]]\n"
     ]
    }
   ],
   "source": [
    "a = np.arange(24).reshape([2,3,2,2])\n",
    "print(a)"
   ]
  },
  {
   "cell_type": "code",
   "execution_count": 173,
   "metadata": {},
   "outputs": [],
   "source": [
    "tmp = sizefilter(blue, sizethreshold = 2)"
   ]
  },
  {
   "cell_type": "code",
   "execution_count": 221,
   "metadata": {},
   "outputs": [],
   "source": [
    "aa = Image.fromarray((x*200).astype(np.uint8))"
   ]
  },
  {
   "cell_type": "code",
   "execution_count": 222,
   "metadata": {},
   "outputs": [
    {
     "output_type": "execute_result",
     "data": {
      "text/plain": [
       "<PIL.Image.Image image mode=L size=696x520 at 0x11320CA58>"
      ],
      "image/png": "[encoded data removed]"
     },
     "metadata": {},
     "execution_count": 222
    }
   ],
   "source": [
    "aa"
   ]
  },
  {
   "cell_type": "code",
   "execution_count": 119,
   "metadata": {},
   "outputs": [
    {
     "output_type": "stream",
     "name": "stdout",
     "text": [
      "(520, 696)\n"
     ]
    },
    {
     "output_type": "execute_result",
     "data": {
      "text/plain": [
       "array([524, 700])"
      ]
     },
     "metadata": {},
     "execution_count": 119
    }
   ],
   "source": [
    "arm = 2\n",
    "print(np.shape(img))\n",
    "np.array(np.shape(img)) + 2 * arm"
   ]
  },
  {
   "cell_type": "code",
   "execution_count": 96,
   "metadata": {},
   "outputs": [],
   "source": [
    "red = np.array(Image.open(redpath)) * 2\n",
    "green = np.array(Image.open(greenpath))\n",
    "#blue = ((red > bright_threshold) * 200).astype(np.uint8)\n",
    "blue = np.zeros(np.shape(red))\n",
    "\n",
    "\n",
    "final = Image.fromarray(np.stack((red, green ,blue), axis = -1).astype(np.uint8))"
   ]
  },
  {
   "cell_type": "code",
   "execution_count": 7,
   "metadata": {},
   "outputs": [],
   "source": [
    "redimage = Image.open(redpath)\n",
    "red = np.array(redimage)\n",
    "greenimage = Image.open(greenpath)\n",
    "green = np.array(greenimage)"
   ]
  },
  {
   "cell_type": "code",
   "execution_count": 82,
   "metadata": {},
   "outputs": [
    {
     "output_type": "execute_result",
     "data": {
      "text/plain": [
       "array(['2R1 left'], dtype='<U11')"
      ]
     },
     "metadata": {},
     "execution_count": 82
    }
   ],
   "source": [
    "files[0:1]"
   ]
  },
  {
   "cell_type": "code",
   "execution_count": 16,
   "metadata": {},
   "outputs": [],
   "source": [
    "bright_threshold = 100"
   ]
  },
  {
   "cell_type": "code",
   "execution_count": 36,
   "metadata": {},
   "outputs": [],
   "source": [
    "blue = ((red > bright_threshold) * 200).astype(np.uint8)"
   ]
  },
  {
   "cell_type": "code",
   "execution_count": 45,
   "metadata": {},
   "outputs": [],
   "source": [
    "final = Image.fromarray(np.stack((red, green ,blue), axis = -1))"
   ]
  },
  {
   "cell_type": "code",
   "execution_count": 51,
   "metadata": {},
   "outputs": [],
   "source": [
    "final.save(output)"
   ]
  },
  {
   "cell_type": "code",
   "execution_count": 30,
   "metadata": {},
   "outputs": [
    {
     "output_type": "execute_result",
     "data": {
      "text/plain": [
       "numpy.ndarray"
      ]
     },
     "metadata": {},
     "execution_count": 30
    }
   ],
   "source": [
    "type(blue)"
   ]
  },
  {
   "cell_type": "code",
   "execution_count": 39,
   "metadata": {},
   "outputs": [
    {
     "output_type": "execute_result",
     "data": {
      "text/plain": [
       "dtype('uint8')"
      ]
     },
     "metadata": {},
     "execution_count": 39
    }
   ],
   "source": [
    "final.dtype"
   ]
  },
  {
   "cell_type": "code",
   "execution_count": null,
   "metadata": {},
   "outputs": [],
   "source": []
  }
 ]
}